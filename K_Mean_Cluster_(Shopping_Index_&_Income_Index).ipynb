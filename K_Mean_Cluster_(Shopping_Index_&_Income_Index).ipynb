{
  "nbformat": 4,
  "nbformat_minor": 0,
  "metadata": {
    "colab": {
      "name": "K Mean Cluster (Shopping Index & Income Index).ipynb",
      "provenance": [],
      "authorship_tag": "ABX9TyMRUZmgDcCnkfqQRCz0Ex8j",
      "include_colab_link": true
    },
    "kernelspec": {
      "name": "python3",
      "display_name": "Python 3"
    },
    "language_info": {
      "name": "python"
    }
  },
  "cells": [
    {
      "cell_type": "markdown",
      "metadata": {
        "id": "view-in-github",
        "colab_type": "text"
      },
      "source": [
        "<a href=\"https://colab.research.google.com/github/mukkatharun/KMeanCluster-Shopping-Index-IncomeIndex-/blob/main/K_Mean_Cluster_(Shopping_Index_%26_Income_Index).ipynb\" target=\"_parent\"><img src=\"https://colab.research.google.com/assets/colab-badge.svg\" alt=\"Open In Colab\"/></a>"
      ]
    },
    {
      "cell_type": "markdown",
      "metadata": {
        "id": "YhxODSXtop0-"
      },
      "source": [
        "K Mean Cluster (Shopping Index & Income Index)"
      ]
    },
    {
      "cell_type": "code",
      "metadata": {
        "id": "hgW3Kvhvosmh"
      },
      "source": [
        "import numpy as np\n",
        "import pandas as pd\n",
        "from sklearn import metrics\n",
        "import matplotlib.pyplot as plt\n",
        "from sklearn.cluster import KMeans"
      ],
      "execution_count": 4,
      "outputs": []
    },
    {
      "cell_type": "markdown",
      "metadata": {
        "id": "_9thLXEPpFXb"
      },
      "source": [
        "Define the data and load it into dataframe\n"
      ]
    },
    {
      "cell_type": "code",
      "metadata": {
        "colab": {
          "base_uri": "https://localhost:8080/",
          "height": 206
        },
        "id": "hUAKf2HYo0sM",
        "outputId": "64a788e2-3286-4005-f833-5ce52c3f0322"
      },
      "source": [
        "SpendingIndex=np.array([3,3,5,2,4,6,6,6,5,6,7,8,9,8,9,9,8])\n",
        "IncomeIndex=np.array([5,4,6,6,5,8,2,3,6,7,2,5,1,2,6,1,3])\n",
        "df = pd.DataFrame({'SpendingIndex': SpendingIndex, 'IncomeIndex': IncomeIndex}, columns=['SpendingIndex', 'IncomeIndex'])\n",
        "df.head()"
      ],
      "execution_count": 7,
      "outputs": [
        {
          "output_type": "execute_result",
          "data": {
            "text/html": [
              "<div>\n",
              "<style scoped>\n",
              "    .dataframe tbody tr th:only-of-type {\n",
              "        vertical-align: middle;\n",
              "    }\n",
              "\n",
              "    .dataframe tbody tr th {\n",
              "        vertical-align: top;\n",
              "    }\n",
              "\n",
              "    .dataframe thead th {\n",
              "        text-align: right;\n",
              "    }\n",
              "</style>\n",
              "<table border=\"1\" class=\"dataframe\">\n",
              "  <thead>\n",
              "    <tr style=\"text-align: right;\">\n",
              "      <th></th>\n",
              "      <th>SpendingIndex</th>\n",
              "      <th>IncomeIndex</th>\n",
              "    </tr>\n",
              "  </thead>\n",
              "  <tbody>\n",
              "    <tr>\n",
              "      <th>0</th>\n",
              "      <td>3</td>\n",
              "      <td>5</td>\n",
              "    </tr>\n",
              "    <tr>\n",
              "      <th>1</th>\n",
              "      <td>3</td>\n",
              "      <td>4</td>\n",
              "    </tr>\n",
              "    <tr>\n",
              "      <th>2</th>\n",
              "      <td>5</td>\n",
              "      <td>6</td>\n",
              "    </tr>\n",
              "    <tr>\n",
              "      <th>3</th>\n",
              "      <td>2</td>\n",
              "      <td>6</td>\n",
              "    </tr>\n",
              "    <tr>\n",
              "      <th>4</th>\n",
              "      <td>4</td>\n",
              "      <td>5</td>\n",
              "    </tr>\n",
              "  </tbody>\n",
              "</table>\n",
              "</div>"
            ],
            "text/plain": [
              "   SpendingIndex  IncomeIndex\n",
              "0              3            5\n",
              "1              3            4\n",
              "2              5            6\n",
              "3              2            6\n",
              "4              4            5"
            ]
          },
          "metadata": {},
          "execution_count": 7
        }
      ]
    },
    {
      "cell_type": "markdown",
      "metadata": {
        "id": "YHaK59DCp6R2"
      },
      "source": [
        "Plot the points, so that we can see the distribution"
      ]
    },
    {
      "cell_type": "code",
      "metadata": {
        "colab": {
          "base_uri": "https://localhost:8080/",
          "height": 428
        },
        "id": "1W5I-eUtpKoO",
        "outputId": "4677a2e4-3b09-45ea-f4e9-de1697226e5b"
      },
      "source": [
        "plt.figure(figsize=(10, 7))\n",
        "plt.scatter(df['SpendingIndex'], df['IncomeIndex'])\n",
        "plt.show()"
      ],
      "execution_count": 11,
      "outputs": [
        {
          "output_type": "display_data",
          "data": {
            "image/png": "[encoded data removed]",
            "text/plain": [
              "<Figure size 720x504 with 1 Axes>"
            ]
          },
          "metadata": {
            "needs_background": "light"
          }
        }
      ]
    },
    {
      "cell_type": "code",
      "metadata": {
        "colab": {
          "base_uri": "https://localhost:8080/",
          "height": 445
        },
        "id": "FGRB8cboqHrT",
        "outputId": "5b031786-2dfa-48d9-98ba-675c518e31b3"
      },
      "source": [
        "#K = 2\n",
        "kmeans_output = KMeans(n_clusters=2, random_state=0).fit(df)\n",
        "print(kmeans_output.labels_)\n",
        "\n",
        "#filter rows of original data\n",
        "cluster1 = df[kmeans_output.labels_ == 0]\n",
        "cluster2 = df[kmeans_output.labels_ == 1]\n",
        " \n",
        "# Plotting the results\n",
        "plt.figure(figsize=(10, 7))\n",
        "plt.scatter(cluster1.SpendingIndex , cluster1.IncomeIndex , color = 'blue')\n",
        "plt.scatter(cluster2.SpendingIndex , cluster2.IncomeIndex , color = 'red')\n",
        "plt.show()"
      ],
      "execution_count": 32,
      "outputs": [
        {
          "output_type": "stream",
          "name": "stdout",
          "text": [
            "[1 1 1 1 1 1 0 0 1 1 0 0 0 0 0 0 0]\n"
          ]
        },
        {
          "output_type": "display_data",
          "data": {
            "image/png": "[encoded data removed]",
            "text/plain": [
              "<Figure size 720x504 with 1 Axes>"
            ]
          },
          "metadata": {
            "needs_background": "light"
          }
        }
      ]
    },
    {
      "cell_type": "code",
      "metadata": {
        "colab": {
          "base_uri": "https://localhost:8080/",
          "height": 445
        },
        "id": "w_NNO-I4rIC2",
        "outputId": "32709414-db31-4808-ce17-1bcb0832b6d3"
      },
      "source": [
        "#K = 3\n",
        "kmeans_output = KMeans(n_clusters=3, random_state=0).fit(df)\n",
        "print(kmeans_output.labels_)\n",
        "\n",
        "#filter rows of original data\n",
        "cluster1 = df[kmeans_output.labels_ == 0]\n",
        "cluster2 = df[kmeans_output.labels_ == 1]\n",
        "cluster3 = df[kmeans_output.labels_ == 2]\n",
        " \n",
        "# Plotting the results\n",
        "plt.figure(figsize=(10, 7))\n",
        "plt.scatter(cluster1.SpendingIndex , cluster1.IncomeIndex , color = 'blue')\n",
        "plt.scatter(cluster2.SpendingIndex , cluster2.IncomeIndex , color = 'red')\n",
        "plt.scatter(cluster3.SpendingIndex , cluster3.IncomeIndex , color = 'black')\n",
        "plt.show()"
      ],
      "execution_count": 39,
      "outputs": [
        {
          "output_type": "stream",
          "name": "stdout",
          "text": [
            "[1 1 1 1 1 0 2 2 1 0 2 0 2 2 0 2 2]\n"
          ]
        },
        {
          "output_type": "display_data",
          "data": {
            "image/png": "[encoded data removed]",
            "text/plain": [
              "<Figure size 720x504 with 1 Axes>"
            ]
          },
          "metadata": {
            "needs_background": "light"
          }
        }
      ]
    },
    {
      "cell_type": "code",
      "metadata": {
        "colab": {
          "base_uri": "https://localhost:8080/",
          "height": 445
        },
        "id": "vmlVy5IYrLdd",
        "outputId": "85226399-5338-43df-b4aa-c60f4d9ed5ff"
      },
      "source": [
        "# K = 4\n",
        "kmeans_output = KMeans(n_clusters=4, random_state=0).fit(df)\n",
        "print(kmeans_output.labels_)\n",
        "\n",
        "#filter rows of original data\n",
        "cluster1 = df[kmeans_output.labels_ == 0]\n",
        "cluster2 = df[kmeans_output.labels_ == 1]\n",
        "cluster3 = df[kmeans_output.labels_ == 2]\n",
        "cluster4 = df[kmeans_output.labels_ == 3]\n",
        " \n",
        "# Plotting the results\n",
        "plt.figure(figsize=(10, 7))\n",
        "plt.scatter(cluster1.SpendingIndex , cluster1.IncomeIndex , color = 'blue')\n",
        "plt.scatter(cluster2.SpendingIndex , cluster2.IncomeIndex , color = 'red')\n",
        "plt.scatter(cluster3.SpendingIndex , cluster3.IncomeIndex , color = 'black')\n",
        "plt.scatter(cluster4.SpendingIndex , cluster4.IncomeIndex , color = 'green')\n",
        "plt.show()"
      ],
      "execution_count": 38,
      "outputs": [
        {
          "output_type": "stream",
          "name": "stdout",
          "text": [
            "[1 1 3 1 1 3 2 2 3 3 2 0 2 2 0 2 2]\n"
          ]
        },
        {
          "output_type": "display_data",
          "data": {
            "image/png": "[encoded data removed]",
            "text/plain": [
              "<Figure size 720x504 with 1 Axes>"
            ]
          },
          "metadata": {
            "needs_background": "light"
          }
        }
      ]
    },
    {
      "cell_type": "code",
      "metadata": {
        "id": "6uiPmqNTts4i"
      },
      "source": [
        ""
      ],
      "execution_count": null,
      "outputs": []
    }
  ]
}